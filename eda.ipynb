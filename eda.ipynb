{
 "cells": [
  {
   "cell_type": "markdown",
   "id": "9e6df7df",
   "metadata": {},
   "source": [
    "# **Análisis exploratorio de datos**"
   ]
  },
  {
   "cell_type": "markdown",
   "id": "458004c3",
   "metadata": {},
   "source": [
    "## ***Librerias***"
   ]
  },
  {
   "cell_type": "code",
   "execution_count": 1,
   "id": "58e53d27",
   "metadata": {},
   "outputs": [],
   "source": [
    "import warnings\n",
    "warnings.filterwarnings('ignore')"
   ]
  },
  {
   "cell_type": "code",
   "execution_count": 30,
   "id": "0f1f6285",
   "metadata": {},
   "outputs": [],
   "source": [
    "import pandas as pd\n",
    "import numpy as np\n",
    "import seaborn as sns\n",
    "import matplotlib.pyplot as plt\n",
    "import csv\n",
    "from collections import Counter\n",
    "import itertools\n",
    "\n",
    "\n",
    "from nltk.stem import PorterStemmer\n",
    "from nltk.tokenize import TreebankWordTokenizer\n",
    "import nltk\n"
   ]
  },
  {
   "cell_type": "code",
   "execution_count": 3,
   "id": "d3e85376",
   "metadata": {},
   "outputs": [],
   "source": [
    "stemmer = PorterStemmer()\n",
    "#nltk.download('punkt')"
   ]
  },
  {
   "cell_type": "markdown",
   "id": "b18b245a",
   "metadata": {},
   "source": [
    "## **Carga y análisis de datos**"
   ]
  },
  {
   "cell_type": "code",
   "execution_count": 36,
   "id": "7107e90c",
   "metadata": {},
   "outputs": [],
   "source": [
    "df = pd.read_csv('data/raw/dataset.tsv', sep='\\t',  names=['label', 'message'], header=None)"
   ]
  },
  {
   "cell_type": "code",
   "execution_count": 5,
   "id": "25e7ccd0",
   "metadata": {},
   "outputs": [
    {
     "name": "stdout",
     "output_type": "stream",
     "text": [
      "<class 'pandas.core.frame.DataFrame'>\n",
      "RangeIndex: 11000 entries, 0 to 10999\n",
      "Data columns (total 2 columns):\n",
      " #   Column   Non-Null Count  Dtype \n",
      "---  ------   --------------  ----- \n",
      " 0   label    11000 non-null  object\n",
      " 1   message  11000 non-null  object\n",
      "dtypes: object(2)\n",
      "memory usage: 172.0+ KB\n"
     ]
    }
   ],
   "source": [
    "df.info()"
   ]
  },
  {
   "cell_type": "markdown",
   "id": "649fdd69",
   "metadata": {},
   "source": [
    "El conjunto de datos cuenta con un total de ``2 columnas`` y ``11000 filas``, no se tienen valores perdidos."
   ]
  },
  {
   "cell_type": "code",
   "execution_count": 6,
   "id": "9a40013b",
   "metadata": {},
   "outputs": [
    {
     "data": {
      "application/vnd.microsoft.datawrangler.viewer.v0+json": {
       "columns": [
        {
         "name": "index",
         "rawType": "int64",
         "type": "integer"
        },
        {
         "name": "label",
         "rawType": "object",
         "type": "string"
        },
        {
         "name": "message",
         "rawType": "object",
         "type": "string"
        }
       ],
       "conversionMethod": "pd.DataFrame",
       "ref": "cf50e69e-d65c-435d-9171-7d7bbf723a0f",
       "rows": [
        [
         "0",
         "neg",
         " ab achanak khawaja saad rafique ko khiyaal aagaya woh bhe peshawar mai is line pai 10 saal sai koi train nahe guzri"
        ],
        [
         "1",
         "neg",
         " adha drama to censor hi hojaye gaa , khaas tor per basant singh ( babrik shah ) wala part . dramon kay naam change kernay ki koi tuk nahin banti . iss bewaqoofi ki waja samajh main nahin aaye . mushkil hindi naamon wali indian movies bhi to pakistan main release hoti hain , jesay katha , sangharsh , abodh , gaman , andolan , kartavya , avtaar , satyamev jayate , nishaant , aakrosh , akarshan , etc . in mushkil hindi names ko to koi urdu main convert nahin kerta !!! "
        ],
        [
         "2",
         "neg",
         " bekaar fuzool end !!!!! moti budhi laila jeet gayee . laila doosri larkiyon ko meesni keh rahi hai , jabkay laila khud sub se bari meesni hai . aliya aur aleena main se koi aik desi kuri ka title win kerti to theek hota . "
        ],
        [
         "3",
         "neg",
         " choor kasuri choor jhootay ka moo kaala"
        ],
        [
         "4",
         "neg",
         " gali gali mein shor hai gaaanjaaaa shair chor hai "
        ],
        [
         "5",
         "neg",
         " hum kia aur hamari logic kia bhonkoon k muted bhonk se andaza laganay k koshish kar rahey k in k jhoot mein kitna dam ha . waisey yeah offshore companies ka paisa kehan se aaaaya"
        ],
        [
         "6",
         "neg",
         " imran khan altaf hussain chachoo haroon ab sadmey sey nikal aao future main jo bhi ho magar ik sahab ney apney aap key saath buhut hi bura kar dala hai is ka ab aney wala waqt hi batayey ga jo agar thori buhut umeed thi woh bhi mutti main mil gai"
        ]
       ],
       "shape": {
        "columns": 2,
        "rows": 7
       }
      },
      "text/html": [
       "<div>\n",
       "<style scoped>\n",
       "    .dataframe tbody tr th:only-of-type {\n",
       "        vertical-align: middle;\n",
       "    }\n",
       "\n",
       "    .dataframe tbody tr th {\n",
       "        vertical-align: top;\n",
       "    }\n",
       "\n",
       "    .dataframe thead th {\n",
       "        text-align: right;\n",
       "    }\n",
       "</style>\n",
       "<table border=\"1\" class=\"dataframe\">\n",
       "  <thead>\n",
       "    <tr style=\"text-align: right;\">\n",
       "      <th></th>\n",
       "      <th>label</th>\n",
       "      <th>message</th>\n",
       "    </tr>\n",
       "  </thead>\n",
       "  <tbody>\n",
       "    <tr>\n",
       "      <th>0</th>\n",
       "      <td>neg</td>\n",
       "      <td>ab achanak khawaja saad rafique ko khiyaal aa...</td>\n",
       "    </tr>\n",
       "    <tr>\n",
       "      <th>1</th>\n",
       "      <td>neg</td>\n",
       "      <td>adha drama to censor hi hojaye gaa , khaas to...</td>\n",
       "    </tr>\n",
       "    <tr>\n",
       "      <th>2</th>\n",
       "      <td>neg</td>\n",
       "      <td>bekaar fuzool end !!!!! moti budhi laila jeet...</td>\n",
       "    </tr>\n",
       "    <tr>\n",
       "      <th>3</th>\n",
       "      <td>neg</td>\n",
       "      <td>choor kasuri choor jhootay ka moo kaala</td>\n",
       "    </tr>\n",
       "    <tr>\n",
       "      <th>4</th>\n",
       "      <td>neg</td>\n",
       "      <td>gali gali mein shor hai gaaanjaaaa shair chor...</td>\n",
       "    </tr>\n",
       "    <tr>\n",
       "      <th>5</th>\n",
       "      <td>neg</td>\n",
       "      <td>hum kia aur hamari logic kia bhonkoon k muted...</td>\n",
       "    </tr>\n",
       "    <tr>\n",
       "      <th>6</th>\n",
       "      <td>neg</td>\n",
       "      <td>imran khan altaf hussain chachoo haroon ab sa...</td>\n",
       "    </tr>\n",
       "  </tbody>\n",
       "</table>\n",
       "</div>"
      ],
      "text/plain": [
       "  label                                            message\n",
       "0   neg   ab achanak khawaja saad rafique ko khiyaal aa...\n",
       "1   neg   adha drama to censor hi hojaye gaa , khaas to...\n",
       "2   neg   bekaar fuzool end !!!!! moti budhi laila jeet...\n",
       "3   neg            choor kasuri choor jhootay ka moo kaala\n",
       "4   neg   gali gali mein shor hai gaaanjaaaa shair chor...\n",
       "5   neg   hum kia aur hamari logic kia bhonkoon k muted...\n",
       "6   neg   imran khan altaf hussain chachoo haroon ab sa..."
      ]
     },
     "execution_count": 6,
     "metadata": {},
     "output_type": "execute_result"
    }
   ],
   "source": [
    "df.head(7)"
   ]
  },
  {
   "cell_type": "code",
   "execution_count": 7,
   "id": "61ea41fa",
   "metadata": {},
   "outputs": [],
   "source": [
    "df['label'].unique()\n",
    "indices = df[df['label'] == ' '].index\n",
    "df = df.drop(indices)\n",
    "data=df.copy()"
   ]
  },
  {
   "cell_type": "code",
   "execution_count": 8,
   "id": "50c6f8d4",
   "metadata": {},
   "outputs": [
    {
     "data": {
      "image/png": "[encoded data removed]",
      "text/plain": [
       "<Figure size 500x400 with 1 Axes>"
      ]
     },
     "metadata": {},
     "output_type": "display_data"
    }
   ],
   "source": [
    "sns.set_style(\"whitegrid\")\n",
    "plt.figure(figsize=(5, 4))\n",
    "sns.barplot(\n",
    "    x=df['label'].value_counts().index,\n",
    "    y=df['label'].value_counts().values,\n",
    "    color='#16425b'\n",
    ")\n",
    "plt.title(\"Distribución de etiquetas\", fontsize=14, fontname='DejaVu Sans')\n",
    "plt.xlabel(\"Etiqueta\", fontsize=12)\n",
    "plt.ylabel(\"Frecuencia\", fontsize=12)\n",
    "plt.tight_layout()\n",
    "plt.show()\n"
   ]
  },
  {
   "cell_type": "markdown",
   "id": "94018d9c",
   "metadata": {},
   "source": [
    "Como conclusión dle gráfico anterior, se puede observar que no hay gran desbalance entre las etiquetas de los mensages presentes en el dataset de interés. Veamos luego los análisis pertinentes para cada uno de los mensages a los cuales se buscará clasificar mas adelante."
   ]
  },
  {
   "cell_type": "code",
   "execution_count": 9,
   "id": "b208e301",
   "metadata": {},
   "outputs": [
    {
     "data": {
      "application/vnd.microsoft.datawrangler.viewer.v0+json": {
       "columns": [
        {
         "name": "index",
         "rawType": "int64",
         "type": "integer"
        },
        {
         "name": "label",
         "rawType": "object",
         "type": "string"
        },
        {
         "name": "message",
         "rawType": "object",
         "type": "string"
        },
        {
         "name": "Length",
         "rawType": "int64",
         "type": "integer"
        }
       ],
       "conversionMethod": "pd.DataFrame",
       "ref": "2bb90586-ccbf-490a-816d-2e09390ffb08",
       "rows": [
        [
         "0",
         "neg",
         " ab achanak khawaja saad rafique ko khiyaal aagaya woh bhe peshawar mai is line pai 10 saal sai koi train nahe guzri",
         "116"
        ],
        [
         "1",
         "neg",
         " adha drama to censor hi hojaye gaa , khaas tor per basant singh ( babrik shah ) wala part . dramon kay naam change kernay ki koi tuk nahin banti . iss bewaqoofi ki waja samajh main nahin aaye . mushkil hindi naamon wali indian movies bhi to pakistan main release hoti hain , jesay katha , sangharsh , abodh , gaman , andolan , kartavya , avtaar , satyamev jayate , nishaant , aakrosh , akarshan , etc . in mushkil hindi names ko to koi urdu main convert nahin kerta !!! ",
         "471"
        ],
        [
         "2",
         "neg",
         " bekaar fuzool end !!!!! moti budhi laila jeet gayee . laila doosri larkiyon ko meesni keh rahi hai , jabkay laila khud sub se bari meesni hai . aliya aur aleena main se koi aik desi kuri ka title win kerti to theek hota . ",
         "223"
        ],
        [
         "3",
         "neg",
         " choor kasuri choor jhootay ka moo kaala",
         "40"
        ],
        [
         "4",
         "neg",
         " gali gali mein shor hai gaaanjaaaa shair chor hai ",
         "51"
        ],
        [
         "5",
         "neg",
         " hum kia aur hamari logic kia bhonkoon k muted bhonk se andaza laganay k koshish kar rahey k in k jhoot mein kitna dam ha . waisey yeah offshore companies ka paisa kehan se aaaaya",
         "179"
        ],
        [
         "6",
         "neg",
         " imran khan altaf hussain chachoo haroon ab sadmey sey nikal aao future main jo bhi ho magar ik sahab ney apney aap key saath buhut hi bura kar dala hai is ka ab aney wala waqt hi batayey ga jo agar thori buhut umeed thi woh bhi mutti main mil gai",
         "247"
        ]
       ],
       "shape": {
        "columns": 3,
        "rows": 7
       }
      },
      "text/html": [
       "<div>\n",
       "<style scoped>\n",
       "    .dataframe tbody tr th:only-of-type {\n",
       "        vertical-align: middle;\n",
       "    }\n",
       "\n",
       "    .dataframe tbody tr th {\n",
       "        vertical-align: top;\n",
       "    }\n",
       "\n",
       "    .dataframe thead th {\n",
       "        text-align: right;\n",
       "    }\n",
       "</style>\n",
       "<table border=\"1\" class=\"dataframe\">\n",
       "  <thead>\n",
       "    <tr style=\"text-align: right;\">\n",
       "      <th></th>\n",
       "      <th>label</th>\n",
       "      <th>message</th>\n",
       "      <th>Length</th>\n",
       "    </tr>\n",
       "  </thead>\n",
       "  <tbody>\n",
       "    <tr>\n",
       "      <th>0</th>\n",
       "      <td>neg</td>\n",
       "      <td>ab achanak khawaja saad rafique ko khiyaal aa...</td>\n",
       "      <td>116</td>\n",
       "    </tr>\n",
       "    <tr>\n",
       "      <th>1</th>\n",
       "      <td>neg</td>\n",
       "      <td>adha drama to censor hi hojaye gaa , khaas to...</td>\n",
       "      <td>471</td>\n",
       "    </tr>\n",
       "    <tr>\n",
       "      <th>2</th>\n",
       "      <td>neg</td>\n",
       "      <td>bekaar fuzool end !!!!! moti budhi laila jeet...</td>\n",
       "      <td>223</td>\n",
       "    </tr>\n",
       "    <tr>\n",
       "      <th>3</th>\n",
       "      <td>neg</td>\n",
       "      <td>choor kasuri choor jhootay ka moo kaala</td>\n",
       "      <td>40</td>\n",
       "    </tr>\n",
       "    <tr>\n",
       "      <th>4</th>\n",
       "      <td>neg</td>\n",
       "      <td>gali gali mein shor hai gaaanjaaaa shair chor...</td>\n",
       "      <td>51</td>\n",
       "    </tr>\n",
       "    <tr>\n",
       "      <th>5</th>\n",
       "      <td>neg</td>\n",
       "      <td>hum kia aur hamari logic kia bhonkoon k muted...</td>\n",
       "      <td>179</td>\n",
       "    </tr>\n",
       "    <tr>\n",
       "      <th>6</th>\n",
       "      <td>neg</td>\n",
       "      <td>imran khan altaf hussain chachoo haroon ab sa...</td>\n",
       "      <td>247</td>\n",
       "    </tr>\n",
       "  </tbody>\n",
       "</table>\n",
       "</div>"
      ],
      "text/plain": [
       "  label                                            message  Length\n",
       "0   neg   ab achanak khawaja saad rafique ko khiyaal aa...     116\n",
       "1   neg   adha drama to censor hi hojaye gaa , khaas to...     471\n",
       "2   neg   bekaar fuzool end !!!!! moti budhi laila jeet...     223\n",
       "3   neg            choor kasuri choor jhootay ka moo kaala      40\n",
       "4   neg   gali gali mein shor hai gaaanjaaaa shair chor...      51\n",
       "5   neg   hum kia aur hamari logic kia bhonkoon k muted...     179\n",
       "6   neg   imran khan altaf hussain chachoo haroon ab sa...     247"
      ]
     },
     "execution_count": 9,
     "metadata": {},
     "output_type": "execute_result"
    }
   ],
   "source": [
    "df['Length'] = df['message'].str.len()\n",
    "df.head(7)"
   ]
  },
  {
   "cell_type": "code",
   "execution_count": 10,
   "id": "e7b763b1",
   "metadata": {},
   "outputs": [
    {
     "data": {
      "application/vnd.microsoft.datawrangler.viewer.v0+json": {
       "columns": [
        {
         "name": "index",
         "rawType": "int64",
         "type": "integer"
        },
        {
         "name": "label",
         "rawType": "object",
         "type": "string"
        },
        {
         "name": "message",
         "rawType": "object",
         "type": "string"
        },
        {
         "name": "Length",
         "rawType": "int64",
         "type": "integer"
        },
        {
         "name": "Word_count",
         "rawType": "int64",
         "type": "integer"
        }
       ],
       "conversionMethod": "pd.DataFrame",
       "ref": "2c8da3ed-8a7f-4379-b106-a4016c2ee24a",
       "rows": [
        [
         "0",
         "neg",
         " ab achanak khawaja saad rafique ko khiyaal aagaya woh bhe peshawar mai is line pai 10 saal sai koi train nahe guzri",
         "116",
         "22"
        ],
        [
         "1",
         "neg",
         " adha drama to censor hi hojaye gaa , khaas tor per basant singh ( babrik shah ) wala part . dramon kay naam change kernay ki koi tuk nahin banti . iss bewaqoofi ki waja samajh main nahin aaye . mushkil hindi naamon wali indian movies bhi to pakistan main release hoti hain , jesay katha , sangharsh , abodh , gaman , andolan , kartavya , avtaar , satyamev jayate , nishaant , aakrosh , akarshan , etc . in mushkil hindi names ko to koi urdu main convert nahin kerta !!! ",
         "471",
         "93"
        ],
        [
         "2",
         "neg",
         " bekaar fuzool end !!!!! moti budhi laila jeet gayee . laila doosri larkiyon ko meesni keh rahi hai , jabkay laila khud sub se bari meesni hai . aliya aur aleena main se koi aik desi kuri ka title win kerti to theek hota . ",
         "223",
         "45"
        ],
        [
         "3",
         "neg",
         " choor kasuri choor jhootay ka moo kaala",
         "40",
         "7"
        ],
        [
         "4",
         "neg",
         " gali gali mein shor hai gaaanjaaaa shair chor hai ",
         "51",
         "9"
        ],
        [
         "5",
         "neg",
         " hum kia aur hamari logic kia bhonkoon k muted bhonk se andaza laganay k koshish kar rahey k in k jhoot mein kitna dam ha . waisey yeah offshore companies ka paisa kehan se aaaaya",
         "179",
         "35"
        ],
        [
         "6",
         "neg",
         " imran khan altaf hussain chachoo haroon ab sadmey sey nikal aao future main jo bhi ho magar ik sahab ney apney aap key saath buhut hi bura kar dala hai is ka ab aney wala waqt hi batayey ga jo agar thori buhut umeed thi woh bhi mutti main mil gai",
         "247",
         "51"
        ]
       ],
       "shape": {
        "columns": 4,
        "rows": 7
       }
      },
      "text/html": [
       "<div>\n",
       "<style scoped>\n",
       "    .dataframe tbody tr th:only-of-type {\n",
       "        vertical-align: middle;\n",
       "    }\n",
       "\n",
       "    .dataframe tbody tr th {\n",
       "        vertical-align: top;\n",
       "    }\n",
       "\n",
       "    .dataframe thead th {\n",
       "        text-align: right;\n",
       "    }\n",
       "</style>\n",
       "<table border=\"1\" class=\"dataframe\">\n",
       "  <thead>\n",
       "    <tr style=\"text-align: right;\">\n",
       "      <th></th>\n",
       "      <th>label</th>\n",
       "      <th>message</th>\n",
       "      <th>Length</th>\n",
       "      <th>Word_count</th>\n",
       "    </tr>\n",
       "  </thead>\n",
       "  <tbody>\n",
       "    <tr>\n",
       "      <th>0</th>\n",
       "      <td>neg</td>\n",
       "      <td>ab achanak khawaja saad rafique ko khiyaal aa...</td>\n",
       "      <td>116</td>\n",
       "      <td>22</td>\n",
       "    </tr>\n",
       "    <tr>\n",
       "      <th>1</th>\n",
       "      <td>neg</td>\n",
       "      <td>adha drama to censor hi hojaye gaa , khaas to...</td>\n",
       "      <td>471</td>\n",
       "      <td>93</td>\n",
       "    </tr>\n",
       "    <tr>\n",
       "      <th>2</th>\n",
       "      <td>neg</td>\n",
       "      <td>bekaar fuzool end !!!!! moti budhi laila jeet...</td>\n",
       "      <td>223</td>\n",
       "      <td>45</td>\n",
       "    </tr>\n",
       "    <tr>\n",
       "      <th>3</th>\n",
       "      <td>neg</td>\n",
       "      <td>choor kasuri choor jhootay ka moo kaala</td>\n",
       "      <td>40</td>\n",
       "      <td>7</td>\n",
       "    </tr>\n",
       "    <tr>\n",
       "      <th>4</th>\n",
       "      <td>neg</td>\n",
       "      <td>gali gali mein shor hai gaaanjaaaa shair chor...</td>\n",
       "      <td>51</td>\n",
       "      <td>9</td>\n",
       "    </tr>\n",
       "    <tr>\n",
       "      <th>5</th>\n",
       "      <td>neg</td>\n",
       "      <td>hum kia aur hamari logic kia bhonkoon k muted...</td>\n",
       "      <td>179</td>\n",
       "      <td>35</td>\n",
       "    </tr>\n",
       "    <tr>\n",
       "      <th>6</th>\n",
       "      <td>neg</td>\n",
       "      <td>imran khan altaf hussain chachoo haroon ab sa...</td>\n",
       "      <td>247</td>\n",
       "      <td>51</td>\n",
       "    </tr>\n",
       "  </tbody>\n",
       "</table>\n",
       "</div>"
      ],
      "text/plain": [
       "  label                                            message  Length  Word_count\n",
       "0   neg   ab achanak khawaja saad rafique ko khiyaal aa...     116          22\n",
       "1   neg   adha drama to censor hi hojaye gaa , khaas to...     471          93\n",
       "2   neg   bekaar fuzool end !!!!! moti budhi laila jeet...     223          45\n",
       "3   neg            choor kasuri choor jhootay ka moo kaala      40           7\n",
       "4   neg   gali gali mein shor hai gaaanjaaaa shair chor...      51           9\n",
       "5   neg   hum kia aur hamari logic kia bhonkoon k muted...     179          35\n",
       "6   neg   imran khan altaf hussain chachoo haroon ab sa...     247          51"
      ]
     },
     "execution_count": 10,
     "metadata": {},
     "output_type": "execute_result"
    }
   ],
   "source": [
    "def word_count(review):\n",
    "    review_list = review.split()\n",
    "    return len(review_list)\n",
    "\n",
    "df['Word_count'] = df['message'].apply(word_count)\n",
    "df.head(7)"
   ]
  },
  {
   "cell_type": "code",
   "execution_count": 11,
   "id": "70c7030f",
   "metadata": {},
   "outputs": [
    {
     "data": {
      "application/vnd.microsoft.datawrangler.viewer.v0+json": {
       "columns": [
        {
         "name": "index",
         "rawType": "int64",
         "type": "integer"
        },
        {
         "name": "label",
         "rawType": "object",
         "type": "string"
        },
        {
         "name": "message",
         "rawType": "object",
         "type": "string"
        },
        {
         "name": "Length",
         "rawType": "int64",
         "type": "integer"
        },
        {
         "name": "Word_count",
         "rawType": "int64",
         "type": "integer"
        },
        {
         "name": "mean_word_length",
         "rawType": "float64",
         "type": "float"
        }
       ],
       "conversionMethod": "pd.DataFrame",
       "ref": "8635811a-2bc0-446a-875e-a821ebded25d",
       "rows": [
        [
         "0",
         "neg",
         " ab achanak khawaja saad rafique ko khiyaal aagaya woh bhe peshawar mai is line pai 10 saal sai koi train nahe guzri",
         "116",
         "22",
         "4.273"
        ],
        [
         "1",
         "neg",
         " adha drama to censor hi hojaye gaa , khaas tor per basant singh ( babrik shah ) wala part . dramon kay naam change kernay ki koi tuk nahin banti . iss bewaqoofi ki waja samajh main nahin aaye . mushkil hindi naamon wali indian movies bhi to pakistan main release hoti hain , jesay katha , sangharsh , abodh , gaman , andolan , kartavya , avtaar , satyamev jayate , nishaant , aakrosh , akarshan , etc . in mushkil hindi names ko to koi urdu main convert nahin kerta !!! ",
         "471",
         "93",
         "4.054"
        ],
        [
         "2",
         "neg",
         " bekaar fuzool end !!!!! moti budhi laila jeet gayee . laila doosri larkiyon ko meesni keh rahi hai , jabkay laila khud sub se bari meesni hai . aliya aur aleena main se koi aik desi kuri ka title win kerti to theek hota . ",
         "223",
         "45",
         "3.933"
        ],
        [
         "3",
         "neg",
         " choor kasuri choor jhootay ka moo kaala",
         "40",
         "7",
         "4.714"
        ],
        [
         "4",
         "neg",
         " gali gali mein shor hai gaaanjaaaa shair chor hai ",
         "51",
         "9",
         "4.556"
        ],
        [
         "5",
         "neg",
         " hum kia aur hamari logic kia bhonkoon k muted bhonk se andaza laganay k koshish kar rahey k in k jhoot mein kitna dam ha . waisey yeah offshore companies ka paisa kehan se aaaaya",
         "179",
         "35",
         "4.114"
        ],
        [
         "6",
         "neg",
         " imran khan altaf hussain chachoo haroon ab sadmey sey nikal aao future main jo bhi ho magar ik sahab ney apney aap key saath buhut hi bura kar dala hai is ka ab aney wala waqt hi batayey ga jo agar thori buhut umeed thi woh bhi mutti main mil gai",
         "247",
         "51",
         "3.843"
        ]
       ],
       "shape": {
        "columns": 5,
        "rows": 7
       }
      },
      "text/html": [
       "<div>\n",
       "<style scoped>\n",
       "    .dataframe tbody tr th:only-of-type {\n",
       "        vertical-align: middle;\n",
       "    }\n",
       "\n",
       "    .dataframe tbody tr th {\n",
       "        vertical-align: top;\n",
       "    }\n",
       "\n",
       "    .dataframe thead th {\n",
       "        text-align: right;\n",
       "    }\n",
       "</style>\n",
       "<table border=\"1\" class=\"dataframe\">\n",
       "  <thead>\n",
       "    <tr style=\"text-align: right;\">\n",
       "      <th></th>\n",
       "      <th>label</th>\n",
       "      <th>message</th>\n",
       "      <th>Length</th>\n",
       "      <th>Word_count</th>\n",
       "      <th>mean_word_length</th>\n",
       "    </tr>\n",
       "  </thead>\n",
       "  <tbody>\n",
       "    <tr>\n",
       "      <th>0</th>\n",
       "      <td>neg</td>\n",
       "      <td>ab achanak khawaja saad rafique ko khiyaal aa...</td>\n",
       "      <td>116</td>\n",
       "      <td>22</td>\n",
       "      <td>4.273</td>\n",
       "    </tr>\n",
       "    <tr>\n",
       "      <th>1</th>\n",
       "      <td>neg</td>\n",
       "      <td>adha drama to censor hi hojaye gaa , khaas to...</td>\n",
       "      <td>471</td>\n",
       "      <td>93</td>\n",
       "      <td>4.054</td>\n",
       "    </tr>\n",
       "    <tr>\n",
       "      <th>2</th>\n",
       "      <td>neg</td>\n",
       "      <td>bekaar fuzool end !!!!! moti budhi laila jeet...</td>\n",
       "      <td>223</td>\n",
       "      <td>45</td>\n",
       "      <td>3.933</td>\n",
       "    </tr>\n",
       "    <tr>\n",
       "      <th>3</th>\n",
       "      <td>neg</td>\n",
       "      <td>choor kasuri choor jhootay ka moo kaala</td>\n",
       "      <td>40</td>\n",
       "      <td>7</td>\n",
       "      <td>4.714</td>\n",
       "    </tr>\n",
       "    <tr>\n",
       "      <th>4</th>\n",
       "      <td>neg</td>\n",
       "      <td>gali gali mein shor hai gaaanjaaaa shair chor...</td>\n",
       "      <td>51</td>\n",
       "      <td>9</td>\n",
       "      <td>4.556</td>\n",
       "    </tr>\n",
       "    <tr>\n",
       "      <th>5</th>\n",
       "      <td>neg</td>\n",
       "      <td>hum kia aur hamari logic kia bhonkoon k muted...</td>\n",
       "      <td>179</td>\n",
       "      <td>35</td>\n",
       "      <td>4.114</td>\n",
       "    </tr>\n",
       "    <tr>\n",
       "      <th>6</th>\n",
       "      <td>neg</td>\n",
       "      <td>imran khan altaf hussain chachoo haroon ab sa...</td>\n",
       "      <td>247</td>\n",
       "      <td>51</td>\n",
       "      <td>3.843</td>\n",
       "    </tr>\n",
       "  </tbody>\n",
       "</table>\n",
       "</div>"
      ],
      "text/plain": [
       "  label                                            message  Length  \\\n",
       "0   neg   ab achanak khawaja saad rafique ko khiyaal aa...     116   \n",
       "1   neg   adha drama to censor hi hojaye gaa , khaas to...     471   \n",
       "2   neg   bekaar fuzool end !!!!! moti budhi laila jeet...     223   \n",
       "3   neg            choor kasuri choor jhootay ka moo kaala      40   \n",
       "4   neg   gali gali mein shor hai gaaanjaaaa shair chor...      51   \n",
       "5   neg   hum kia aur hamari logic kia bhonkoon k muted...     179   \n",
       "6   neg   imran khan altaf hussain chachoo haroon ab sa...     247   \n",
       "\n",
       "   Word_count  mean_word_length  \n",
       "0          22             4.273  \n",
       "1          93             4.054  \n",
       "2          45             3.933  \n",
       "3           7             4.714  \n",
       "4           9             4.556  \n",
       "5          35             4.114  \n",
       "6          51             3.843  "
      ]
     },
     "execution_count": 11,
     "metadata": {},
     "output_type": "execute_result"
    }
   ],
   "source": [
    "df['mean_word_length'] = df['message'].map(lambda rev: np.mean([len(word) for word in rev.split()]).round(3))\n",
    "df.head(7)"
   ]
  },
  {
   "cell_type": "code",
   "execution_count": 12,
   "id": "1b3ba21e",
   "metadata": {},
   "outputs": [
    {
     "data": {
      "image/png": "[encoded data removed]",
      "text/plain": [
       "<Figure size 1500x400 with 3 Axes>"
      ]
     },
     "metadata": {},
     "output_type": "display_data"
    }
   ],
   "source": [
    "sns.set_style(\"whitegrid\")\n",
    "columnas = ['Length', 'Word_count', 'mean_word_length']  # reemplaza con los nombres reales\n",
    "fig, axes = plt.subplots(1, 3, figsize=(15, 4))\n",
    "\n",
    "# Crear los histogramas\n",
    "for i, col in enumerate(columnas):\n",
    "    sns.histplot(df[col], ax=axes[i], kde=True, color='#16425b')\n",
    "    axes[i].set_title(f'Histograma de {col}', fontsize=12)\n",
    "    axes[i].set_xlabel(col)\n",
    "    axes[i].set_ylabel('Frecuencia')\n",
    "\n",
    "# Ajustar espacios\n",
    "plt.tight_layout()\n",
    "plt.show()\n"
   ]
  },
  {
   "cell_type": "markdown",
   "id": "4a2e4053",
   "metadata": {},
   "source": [
    "Los tres histogramas muestran que la mayoría de los textos son cortos: tienen menos de 500 caracteres y menos de 100 palabras. Además, las palabras que usan suelen ser breves, de unas 4 a 6 letras en promedio. Aunque hay algunos textos muy largos o con palabras inusualmente largas, son pocos y no representan la mayoría."
   ]
  },
  {
   "cell_type": "markdown",
   "id": "3a25ee77",
   "metadata": {},
   "source": [
    "### ***Limpieza de palabras de relleno***"
   ]
  },
  {
   "cell_type": "markdown",
   "id": "69d4d449",
   "metadata": {},
   "source": [
    "Parte del código de algunas funciones utilizadas durante el desarrollo de este trabajo provienen del proyecto ``Roman Urdu Sentimental Analysis``, disponible en: [[enlace](https://www.kaggle.com/code/itsnobita/roman-urdu-sentimental-analysis)]."
   ]
  },
  {
   "cell_type": "code",
   "execution_count": 13,
   "id": "4125d52b",
   "metadata": {},
   "outputs": [],
   "source": [
    "def load_stopwords_from_csv(csv_file):\n",
    "    stopwords = set()\n",
    "    with open(csv_file, newline='', encoding='utf-8') as file:\n",
    "        reader = csv.reader(file)\n",
    "        for row in reader:\n",
    "            stopwords.add(row[0])\n",
    "    return stopwords"
   ]
  },
  {
   "cell_type": "code",
   "execution_count": 14,
   "id": "71edfd7a",
   "metadata": {},
   "outputs": [],
   "source": [
    "def corpus(text):\n",
    "    text_list = text.split()\n",
    "    return text_list"
   ]
  },
  {
   "cell_type": "markdown",
   "id": "f7dc7d89",
   "metadata": {},
   "source": [
    "En mismo proyecto mencionado anteriormente se disponia de un dataset que contenia la mayoria de las stopwords relacionadas al lenguaje Urdun, este dataset será usado para la limpieza de los mensajes en el conjunto de datos."
   ]
  },
  {
   "cell_type": "code",
   "execution_count": 15,
   "id": "c6ac7580",
   "metadata": {},
   "outputs": [],
   "source": [
    "stopwords_csv_file = 'data/raw/RomanUrdu_stopwords.csv'\n",
    "urdu_stopwords = load_stopwords_from_csv(stopwords_csv_file)"
   ]
  },
  {
   "cell_type": "code",
   "execution_count": null,
   "id": "d2f8b1c2",
   "metadata": {},
   "outputs": [],
   "source": [
    "tokenizer = TreebankWordTokenizer()\n",
    "\n",
    "def clean_text(urdu_text):\n",
    "    urdu_text = urdu_text.lower()\n",
    "    tokens = tokenizer.tokenize(urdu_text)  # Usa tokenizer sin dependencias de 'punkt'\n",
    "    tokens = [t for t in tokens if len(t) > 1]\n",
    "    tokens = [stemmer.stem(word) for word in tokens if word not in urdu_stopwords]\n",
    "    return ' '.join(tokens)\n"
   ]
  },
  {
   "cell_type": "code",
   "execution_count": 17,
   "id": "2d574177",
   "metadata": {},
   "outputs": [
    {
     "name": "stdout",
     "output_type": "stream",
     "text": [
      "========================================\n",
      "Mensaje original:\n",
      " ab achanak khawaja saad rafique ko khiyaal aagaya woh bhe peshawar mai is line pai 10 saal sai koi train nahe guzri\n",
      "\n",
      "Mensaje limpio:\n",
      "achanak khawaja saad rafiqu khiyaal aagaya woh bhe peshawar line pai 10 saal train nahe guzri\n",
      "========================================\n"
     ]
    }
   ],
   "source": [
    "print(\"=\"*40)\n",
    "print(\"Mensaje original:\")\n",
    "print(data[\"message\"][0])\n",
    "print(\"\\nMensaje limpio:\")\n",
    "print(clean_text(data[\"message\"][0]))\n",
    "print(\"=\"*40)"
   ]
  },
  {
   "cell_type": "markdown",
   "id": "38d59621",
   "metadata": {},
   "source": [
    "Ahora se aplicará la funcion de limpieza a todo el dataset para seguir con los análisis y preprosesamientos necesarios."
   ]
  },
  {
   "cell_type": "code",
   "execution_count": 18,
   "id": "ded20b28",
   "metadata": {},
   "outputs": [],
   "source": [
    "data['clean_text'] = data['message'].apply(clean_text)"
   ]
  },
  {
   "cell_type": "code",
   "execution_count": 20,
   "id": "957eb5be",
   "metadata": {},
   "outputs": [
    {
     "data": {
      "application/vnd.microsoft.datawrangler.viewer.v0+json": {
       "columns": [
        {
         "name": "index",
         "rawType": "int64",
         "type": "integer"
        },
        {
         "name": "label",
         "rawType": "object",
         "type": "string"
        },
        {
         "name": "message",
         "rawType": "object",
         "type": "string"
        },
        {
         "name": "clean_text",
         "rawType": "object",
         "type": "string"
        },
        {
         "name": "message_lists",
         "rawType": "object",
         "type": "unknown"
        }
       ],
       "conversionMethod": "pd.DataFrame",
       "ref": "3822a747-8b94-48f5-aab8-afc942d253ea",
       "rows": [
        [
         "0",
         "neg",
         " ab achanak khawaja saad rafique ko khiyaal aagaya woh bhe peshawar mai is line pai 10 saal sai koi train nahe guzri",
         "achanak khawaja saad rafiqu khiyaal aagaya woh bhe peshawar line pai 10 saal train nahe guzri",
         "['achanak', 'khawaja', 'saad', 'rafiqu', 'khiyaal', 'aagaya', 'woh', 'bhe', 'peshawar', 'line', 'pai', '10', 'saal', 'train', 'nahe', 'guzri']"
        ],
        [
         "1",
         "neg",
         " adha drama to censor hi hojaye gaa , khaas tor per basant singh ( babrik shah ) wala part . dramon kay naam change kernay ki koi tuk nahin banti . iss bewaqoofi ki waja samajh main nahin aaye . mushkil hindi naamon wali indian movies bhi to pakistan main release hoti hain , jesay katha , sangharsh , abodh , gaman , andolan , kartavya , avtaar , satyamev jayate , nishaant , aakrosh , akarshan , etc . in mushkil hindi names ko to koi urdu main convert nahin kerta !!! ",
         "adha drama to censor hi hojay gaa khaa tor basant singh babrik shah wala part dramon kay naam chang kernay ki tuk banti iss bewaqoofi ki waja samajh main aay mushkil hindi naamon indian movi bhi to pakistan main releas hoti hain jesay katha sangharsh abodh gaman andolan kartavya avtaar satyamev jayat nishaant aakrosh akarshan etc mushkil hindi name to urdu main convert kerta",
         "['adha', 'drama', 'to', 'censor', 'hi', 'hojay', 'gaa', 'khaa', 'tor', 'basant', 'singh', 'babrik', 'shah', 'wala', 'part', 'dramon', 'kay', 'naam', 'chang', 'kernay', 'ki', 'tuk', 'banti', 'iss', 'bewaqoofi', 'ki', 'waja', 'samajh', 'main', 'aay', 'mushkil', 'hindi', 'naamon', 'indian', 'movi', 'bhi', 'to', 'pakistan', 'main', 'releas', 'hoti', 'hain', 'jesay', 'katha', 'sangharsh', 'abodh', 'gaman', 'andolan', 'kartavya', 'avtaar', 'satyamev', 'jayat', 'nishaant', 'aakrosh', 'akarshan', 'etc', 'mushkil', 'hindi', 'name', 'to', 'urdu', 'main', 'convert', 'kerta']"
        ],
        [
         "2",
         "neg",
         " bekaar fuzool end !!!!! moti budhi laila jeet gayee . laila doosri larkiyon ko meesni keh rahi hai , jabkay laila khud sub se bari meesni hai . aliya aur aleena main se koi aik desi kuri ka title win kerti to theek hota . ",
         "bekaar fuzool end moti budhi laila jeet gaye laila doosri larkiyon meesni keh jabkay laila sub bari meesni aliya aleena main desi kuri titl win kerti to theek hota",
         "['bekaar', 'fuzool', 'end', 'moti', 'budhi', 'laila', 'jeet', 'gaye', 'laila', 'doosri', 'larkiyon', 'meesni', 'keh', 'jabkay', 'laila', 'sub', 'bari', 'meesni', 'aliya', 'aleena', 'main', 'desi', 'kuri', 'titl', 'win', 'kerti', 'to', 'theek', 'hota']"
        ],
        [
         "3",
         "neg",
         " choor kasuri choor jhootay ka moo kaala",
         "choor kasuri choor jhootay moo kaala",
         "['choor', 'kasuri', 'choor', 'jhootay', 'moo', 'kaala']"
        ],
        [
         "4",
         "neg",
         " gali gali mein shor hai gaaanjaaaa shair chor hai ",
         "gali gali mein shor gaaanjaaaa shair chor",
         "['gali', 'gali', 'mein', 'shor', 'gaaanjaaaa', 'shair', 'chor']"
        ],
        [
         "5",
         "neg",
         " hum kia aur hamari logic kia bhonkoon k muted bhonk se andaza laganay k koshish kar rahey k in k jhoot mein kitna dam ha . waisey yeah offshore companies ka paisa kehan se aaaaya",
         "hum kia hamari logic kia bhonkoon mute bhonk andaza laganay koshish kar rahey jhoot mein kitna dam waisey yeah offshor compani paisa kehan aaaaya",
         "['hum', 'kia', 'hamari', 'logic', 'kia', 'bhonkoon', 'mute', 'bhonk', 'andaza', 'laganay', 'koshish', 'kar', 'rahey', 'jhoot', 'mein', 'kitna', 'dam', 'waisey', 'yeah', 'offshor', 'compani', 'paisa', 'kehan', 'aaaaya']"
        ],
        [
         "6",
         "neg",
         " imran khan altaf hussain chachoo haroon ab sadmey sey nikal aao future main jo bhi ho magar ik sahab ney apney aap key saath buhut hi bura kar dala hai is ka ab aney wala waqt hi batayey ga jo agar thori buhut umeed thi woh bhi mutti main mil gai",
         "imran khan altaf hussain chachoo haroon sadmey nikal aao futur main jo bhi magar ik sahab ney apney aap key saath buhut hi bura kar dala aney wala waqt hi batayey ga jo agar thori buhut ume woh bhi mutti main",
         "['imran', 'khan', 'altaf', 'hussain', 'chachoo', 'haroon', 'sadmey', 'nikal', 'aao', 'futur', 'main', 'jo', 'bhi', 'magar', 'ik', 'sahab', 'ney', 'apney', 'aap', 'key', 'saath', 'buhut', 'hi', 'bura', 'kar', 'dala', 'aney', 'wala', 'waqt', 'hi', 'batayey', 'ga', 'jo', 'agar', 'thori', 'buhut', 'ume', 'woh', 'bhi', 'mutti', 'main']"
        ],
        [
         "7",
         "neg",
         " lagta ha sab bhonkay hath xaray kar rahay hein k panama se koi tufaan aanay k imkaan nahein tumhari galian beta rehi hein ke tum kitney frustrated hoooo ",
         "lagta sab bhonkay hath xaray kar rahay panama tufaan aanay imkaan nahein tumhari galian beta rehi ke tum kitney frustrat hoooo",
         "['lagta', 'sab', 'bhonkay', 'hath', 'xaray', 'kar', 'rahay', 'panama', 'tufaan', 'aanay', 'imkaan', 'nahein', 'tumhari', 'galian', 'beta', 'rehi', 'ke', 'tum', 'kitney', 'frustrat', 'hoooo']"
        ],
        [
         "8",
         "neg",
         " merey bahi tum saye kaha rahey hoo but main tum ku ak cheez clear kardoon mqm kabhi start nahi kartey but haan end zaroor kartey ha its true yar main buhat pashtoons ku janta hoon ju kabhi in cheezoon ku favour nahi kartey but anp ju ha sirf pashtoons ka naam use karkey karachi main drag weapon qabsa or killing kar rahi ha or urdu speaking or pashtoon ku lara rahi ha as a pakistani ham sab ku ak dosra ku accept karna chaye jahan tak mqm key qabsey ki baat ha is sey koi farq nahi pharta ha merey bahi still karachi main sab lug abaad haan or jee rahay haan in sab ka haal sirf ak hi ha ak dafa bagr kasey farq key pura karachi operation kar dye jaye jab tak weapon rahey ga yeh masla chalta rahey ga allaha ham sab key diloon main dusrey key liye mohabaat pada karey",
         "merey bahi tum say kaha rahey hoo main tum ak cheez clear kardoon mqm kabhi start nahi kartey haan end zaroor kartey true yar main buhat pashtoon janta hoon ju kabhi cheezoon favour nahi kartey anp ju sirf pashtoon naam use karkey karachi main drag weapon qabsa kill kar urdu speak pashtoon lara as pakistani ham sab ak dosra accept karna chay jahan mqm key qabsey ki baat farq nahi pharta merey bahi still karachi main sab lug abaad haan jee rahay haan sab haal sirf ak hi ak dafa bagr kasey farq key pura karachi oper kar dye weapon rahey ga masla chalta rahey ga allaha ham sab key diloon main dusrey key liy mohabaat pada karey",
         "['merey', 'bahi', 'tum', 'say', 'kaha', 'rahey', 'hoo', 'main', 'tum', 'ak', 'cheez', 'clear', 'kardoon', 'mqm', 'kabhi', 'start', 'nahi', 'kartey', 'haan', 'end', 'zaroor', 'kartey', 'true', 'yar', 'main', 'buhat', 'pashtoon', 'janta', 'hoon', 'ju', 'kabhi', 'cheezoon', 'favour', 'nahi', 'kartey', 'anp', 'ju', 'sirf', 'pashtoon', 'naam', 'use', 'karkey', 'karachi', 'main', 'drag', 'weapon', 'qabsa', 'kill', 'kar', 'urdu', 'speak', 'pashtoon', 'lara', 'as', 'pakistani', 'ham', 'sab', 'ak', 'dosra', 'accept', 'karna', 'chay', 'jahan', 'mqm', 'key', 'qabsey', 'ki', 'baat', 'farq', 'nahi', 'pharta', 'merey', 'bahi', 'still', 'karachi', 'main', 'sab', 'lug', 'abaad', 'haan', 'jee', 'rahay', 'haan', 'sab', 'haal', 'sirf', 'ak', 'hi', 'ak', 'dafa', 'bagr', 'kasey', 'farq', 'key', 'pura', 'karachi', 'oper', 'kar', 'dye', 'weapon', 'rahey', 'ga', 'masla', 'chalta', 'rahey', 'ga', 'allaha', 'ham', 'sab', 'key', 'diloon', 'main', 'dusrey', 'key', 'liy', 'mohabaat', 'pada', 'karey']"
        ],
        [
         "9",
         "neg",
         " nawaz khanzaaney ka moun khul chukaa hai sab kha rahy han",
         "nawaz khanzaaney moun khul chukaa sab kha rahi han",
         "['nawaz', 'khanzaaney', 'moun', 'khul', 'chukaa', 'sab', 'kha', 'rahi', 'han']"
        ]
       ],
       "shape": {
        "columns": 4,
        "rows": 10
       }
      },
      "text/html": [
       "<div>\n",
       "<style scoped>\n",
       "    .dataframe tbody tr th:only-of-type {\n",
       "        vertical-align: middle;\n",
       "    }\n",
       "\n",
       "    .dataframe tbody tr th {\n",
       "        vertical-align: top;\n",
       "    }\n",
       "\n",
       "    .dataframe thead th {\n",
       "        text-align: right;\n",
       "    }\n",
       "</style>\n",
       "<table border=\"1\" class=\"dataframe\">\n",
       "  <thead>\n",
       "    <tr style=\"text-align: right;\">\n",
       "      <th></th>\n",
       "      <th>label</th>\n",
       "      <th>message</th>\n",
       "      <th>clean_text</th>\n",
       "      <th>message_lists</th>\n",
       "    </tr>\n",
       "  </thead>\n",
       "  <tbody>\n",
       "    <tr>\n",
       "      <th>0</th>\n",
       "      <td>neg</td>\n",
       "      <td>ab achanak khawaja saad rafique ko khiyaal aa...</td>\n",
       "      <td>achanak khawaja saad rafiqu khiyaal aagaya woh...</td>\n",
       "      <td>[achanak, khawaja, saad, rafiqu, khiyaal, aaga...</td>\n",
       "    </tr>\n",
       "    <tr>\n",
       "      <th>1</th>\n",
       "      <td>neg</td>\n",
       "      <td>adha drama to censor hi hojaye gaa , khaas to...</td>\n",
       "      <td>adha drama to censor hi hojay gaa khaa tor bas...</td>\n",
       "      <td>[adha, drama, to, censor, hi, hojay, gaa, khaa...</td>\n",
       "    </tr>\n",
       "    <tr>\n",
       "      <th>2</th>\n",
       "      <td>neg</td>\n",
       "      <td>bekaar fuzool end !!!!! moti budhi laila jeet...</td>\n",
       "      <td>bekaar fuzool end moti budhi laila jeet gaye l...</td>\n",
       "      <td>[bekaar, fuzool, end, moti, budhi, laila, jeet...</td>\n",
       "    </tr>\n",
       "    <tr>\n",
       "      <th>3</th>\n",
       "      <td>neg</td>\n",
       "      <td>choor kasuri choor jhootay ka moo kaala</td>\n",
       "      <td>choor kasuri choor jhootay moo kaala</td>\n",
       "      <td>[choor, kasuri, choor, jhootay, moo, kaala]</td>\n",
       "    </tr>\n",
       "    <tr>\n",
       "      <th>4</th>\n",
       "      <td>neg</td>\n",
       "      <td>gali gali mein shor hai gaaanjaaaa shair chor...</td>\n",
       "      <td>gali gali mein shor gaaanjaaaa shair chor</td>\n",
       "      <td>[gali, gali, mein, shor, gaaanjaaaa, shair, chor]</td>\n",
       "    </tr>\n",
       "    <tr>\n",
       "      <th>5</th>\n",
       "      <td>neg</td>\n",
       "      <td>hum kia aur hamari logic kia bhonkoon k muted...</td>\n",
       "      <td>hum kia hamari logic kia bhonkoon mute bhonk a...</td>\n",
       "      <td>[hum, kia, hamari, logic, kia, bhonkoon, mute,...</td>\n",
       "    </tr>\n",
       "    <tr>\n",
       "      <th>6</th>\n",
       "      <td>neg</td>\n",
       "      <td>imran khan altaf hussain chachoo haroon ab sa...</td>\n",
       "      <td>imran khan altaf hussain chachoo haroon sadmey...</td>\n",
       "      <td>[imran, khan, altaf, hussain, chachoo, haroon,...</td>\n",
       "    </tr>\n",
       "    <tr>\n",
       "      <th>7</th>\n",
       "      <td>neg</td>\n",
       "      <td>lagta ha sab bhonkay hath xaray kar rahay hei...</td>\n",
       "      <td>lagta sab bhonkay hath xaray kar rahay panama ...</td>\n",
       "      <td>[lagta, sab, bhonkay, hath, xaray, kar, rahay,...</td>\n",
       "    </tr>\n",
       "    <tr>\n",
       "      <th>8</th>\n",
       "      <td>neg</td>\n",
       "      <td>merey bahi tum saye kaha rahey hoo but main t...</td>\n",
       "      <td>merey bahi tum say kaha rahey hoo main tum ak ...</td>\n",
       "      <td>[merey, bahi, tum, say, kaha, rahey, hoo, main...</td>\n",
       "    </tr>\n",
       "    <tr>\n",
       "      <th>9</th>\n",
       "      <td>neg</td>\n",
       "      <td>nawaz khanzaaney ka moun khul chukaa hai sab ...</td>\n",
       "      <td>nawaz khanzaaney moun khul chukaa sab kha rahi...</td>\n",
       "      <td>[nawaz, khanzaaney, moun, khul, chukaa, sab, k...</td>\n",
       "    </tr>\n",
       "  </tbody>\n",
       "</table>\n",
       "</div>"
      ],
      "text/plain": [
       "  label                                            message  \\\n",
       "0   neg   ab achanak khawaja saad rafique ko khiyaal aa...   \n",
       "1   neg   adha drama to censor hi hojaye gaa , khaas to...   \n",
       "2   neg   bekaar fuzool end !!!!! moti budhi laila jeet...   \n",
       "3   neg            choor kasuri choor jhootay ka moo kaala   \n",
       "4   neg   gali gali mein shor hai gaaanjaaaa shair chor...   \n",
       "5   neg   hum kia aur hamari logic kia bhonkoon k muted...   \n",
       "6   neg   imran khan altaf hussain chachoo haroon ab sa...   \n",
       "7   neg   lagta ha sab bhonkay hath xaray kar rahay hei...   \n",
       "8   neg   merey bahi tum saye kaha rahey hoo but main t...   \n",
       "9   neg   nawaz khanzaaney ka moun khul chukaa hai sab ...   \n",
       "\n",
       "                                          clean_text  \\\n",
       "0  achanak khawaja saad rafiqu khiyaal aagaya woh...   \n",
       "1  adha drama to censor hi hojay gaa khaa tor bas...   \n",
       "2  bekaar fuzool end moti budhi laila jeet gaye l...   \n",
       "3               choor kasuri choor jhootay moo kaala   \n",
       "4          gali gali mein shor gaaanjaaaa shair chor   \n",
       "5  hum kia hamari logic kia bhonkoon mute bhonk a...   \n",
       "6  imran khan altaf hussain chachoo haroon sadmey...   \n",
       "7  lagta sab bhonkay hath xaray kar rahay panama ...   \n",
       "8  merey bahi tum say kaha rahey hoo main tum ak ...   \n",
       "9  nawaz khanzaaney moun khul chukaa sab kha rahi...   \n",
       "\n",
       "                                       message_lists  \n",
       "0  [achanak, khawaja, saad, rafiqu, khiyaal, aaga...  \n",
       "1  [adha, drama, to, censor, hi, hojay, gaa, khaa...  \n",
       "2  [bekaar, fuzool, end, moti, budhi, laila, jeet...  \n",
       "3        [choor, kasuri, choor, jhootay, moo, kaala]  \n",
       "4  [gali, gali, mein, shor, gaaanjaaaa, shair, chor]  \n",
       "5  [hum, kia, hamari, logic, kia, bhonkoon, mute,...  \n",
       "6  [imran, khan, altaf, hussain, chachoo, haroon,...  \n",
       "7  [lagta, sab, bhonkay, hath, xaray, kar, rahay,...  \n",
       "8  [merey, bahi, tum, say, kaha, rahey, hoo, main...  \n",
       "9  [nawaz, khanzaaney, moun, khul, chukaa, sab, k...  "
      ]
     },
     "execution_count": 20,
     "metadata": {},
     "output_type": "execute_result"
    }
   ],
   "source": [
    "data['message_lists'] = data['clean_text'].apply(corpus)\n",
    "data.head(10)"
   ]
  },
  {
   "cell_type": "code",
   "execution_count": 32,
   "id": "40a2797d",
   "metadata": {},
   "outputs": [
    {
     "data": {
      "image/png": "[encoded data removed]",
      "text/plain": [
       "<Figure size 800x400 with 1 Axes>"
      ]
     },
     "metadata": {},
     "output_type": "display_data"
    }
   ],
   "source": [
    "all_words = list(itertools.chain.from_iterable(data['message_lists']))\n",
    "word_counts = Counter(all_words)\n",
    "top_10 = word_counts.most_common(10)\n",
    "words, counts = zip(*top_10)\n",
    "\n",
    "# Graficar\n",
    "plt.figure(figsize=(8, 4))\n",
    "plt.bar(words, counts, color='#16425b')\n",
    "plt.title('Top 10 palabras más comunes en message_lists')\n",
    "plt.xlabel('Palabras')\n",
    "plt.ylabel('Frecuencia')\n",
    "plt.xticks(rotation=45)\n",
    "plt.tight_layout()\n",
    "plt.show()\n"
   ]
  },
  {
   "cell_type": "code",
   "execution_count": 34,
   "id": "bf2f351e",
   "metadata": {},
   "outputs": [],
   "source": [
    "data=data[['label','clean_text']]\n",
    "data.to_csv('data/processed/to_model.csv', index=False)"
   ]
  }
 ],
 "metadata": {
  "kernelspec": {
   "display_name": "ml_venv",
   "language": "python",
   "name": "python3"
  },
  "language_info": {
   "codemirror_mode": {
    "name": "ipython",
    "version": 3
   },
   "file_extension": ".py",
   "mimetype": "text/x-python",
   "name": "python",
   "nbconvert_exporter": "python",
   "pygments_lexer": "ipython3",
   "version": "3.9.19"
  }
 },
 "nbformat": 4,
 "nbformat_minor": 5
}
